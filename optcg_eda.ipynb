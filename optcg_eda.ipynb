{
 "cells": [
  {
   "cell_type": "code",
   "execution_count": 1,
   "id": "f96a3ee6-cf9a-4c77-be16-70c31c560d7f",
   "metadata": {},
   "outputs": [],
   "source": [
    "import json\n",
    "import pandas as pd\n",
    "import os"
   ]
  },
  {
   "cell_type": "markdown",
   "id": "2c09c693-928c-4f26-9639-7553d075d723",
   "metadata": {},
   "source": [
    "## --- Sets --- \n",
    "Will check out the data retrieved for sets first, as there is not much to go over"
   ]
  },
  {
   "cell_type": "code",
   "execution_count": 2,
   "id": "21c5ebb4-5330-4be2-b8a8-f6dd3b7034a5",
   "metadata": {},
   "outputs": [],
   "source": [
    "# Load sets from local \n",
    "with open(\"data/onepiece_sets.json\", \"r\") as f:\n",
    "    sets = json.load(f)\n",
    "\n",
    "# Flatten\n",
    "flattened_sets = []\n",
    "for s in sets:\n",
    "    flat = {\n",
    "        \"set_id\": s.get(\"value\"),\n",
    "        \"set_label\": s.get(\"raw_text\"),\n",
    "        \"set_type\": s.get(\"parts\")[0] if len(s.get(\"parts\", [])) > 0 else None, # Assign each value from \"parts\" (or raw_text) to its own column\n",
    "        \"set_name\": s.get(\"parts\")[1] if len(s.get(\"parts\", [])) > 1 else None, \n",
    "        \"set_number\": s.get(\"parts\")[2] if len(s.get(\"parts\", [])) > 2 else None\n",
    "    }\n",
    "    flattened_sets.append(flat)"
   ]
  },
  {
   "cell_type": "code",
   "execution_count": 3,
   "id": "7f770c7b-208f-4f6c-b14b-16c3e35c97dd",
   "metadata": {},
   "outputs": [
    {
     "data": {
      "text/html": [
       "<div>\n",
       "<style scoped>\n",
       "    .dataframe tbody tr th:only-of-type {\n",
       "        vertical-align: middle;\n",
       "    }\n",
       "\n",
       "    .dataframe tbody tr th {\n",
       "        vertical-align: top;\n",
       "    }\n",
       "\n",
       "    .dataframe thead th {\n",
       "        text-align: right;\n",
       "    }\n",
       "</style>\n",
       "<table border=\"1\" class=\"dataframe\">\n",
       "  <thead>\n",
       "    <tr style=\"text-align: right;\">\n",
       "      <th></th>\n",
       "      <th>set_id</th>\n",
       "      <th>set_label</th>\n",
       "      <th>set_type</th>\n",
       "      <th>set_name</th>\n",
       "      <th>set_number</th>\n",
       "    </tr>\n",
       "  </thead>\n",
       "  <tbody>\n",
       "    <tr>\n",
       "      <th>0</th>\n",
       "      <td>569301</td>\n",
       "      <td>PREMIUM BOOSTER -ONE PIECE CARD THE BEST- [PRB...</td>\n",
       "      <td>PREMIUM BOOSTER</td>\n",
       "      <td>ONE PIECE CARD THE BEST</td>\n",
       "      <td>[PRB-01]</td>\n",
       "    </tr>\n",
       "    <tr>\n",
       "      <th>1</th>\n",
       "      <td>569202</td>\n",
       "      <td>EXTRA BOOSTER -Anime 25th Collection- [EB-02]</td>\n",
       "      <td>EXTRA BOOSTER</td>\n",
       "      <td>Anime 25th Collection</td>\n",
       "      <td>[EB-02]</td>\n",
       "    </tr>\n",
       "    <tr>\n",
       "      <th>2</th>\n",
       "      <td>569201</td>\n",
       "      <td>EXTRA BOOSTER -MEMORIAL COLLECTION- [EB-01]</td>\n",
       "      <td>EXTRA BOOSTER</td>\n",
       "      <td>MEMORIAL COLLECTION</td>\n",
       "      <td>[EB-01]</td>\n",
       "    </tr>\n",
       "    <tr>\n",
       "      <th>3</th>\n",
       "      <td>569111</td>\n",
       "      <td>BOOSTER PACK -A FIST OF DIVINE SPEED- [OP-11]</td>\n",
       "      <td>BOOSTER PACK</td>\n",
       "      <td>A FIST OF DIVINE SPEED</td>\n",
       "      <td>[OP-11]</td>\n",
       "    </tr>\n",
       "    <tr>\n",
       "      <th>4</th>\n",
       "      <td>569110</td>\n",
       "      <td>BOOSTER PACK -ROYAL BLOOD- [OP-10]</td>\n",
       "      <td>BOOSTER PACK</td>\n",
       "      <td>ROYAL BLOOD</td>\n",
       "      <td>[OP-10]</td>\n",
       "    </tr>\n",
       "  </tbody>\n",
       "</table>\n",
       "</div>"
      ],
      "text/plain": [
       "   set_id                                          set_label         set_type  \\\n",
       "0  569301  PREMIUM BOOSTER -ONE PIECE CARD THE BEST- [PRB...  PREMIUM BOOSTER   \n",
       "1  569202      EXTRA BOOSTER -Anime 25th Collection- [EB-02]    EXTRA BOOSTER   \n",
       "2  569201        EXTRA BOOSTER -MEMORIAL COLLECTION- [EB-01]    EXTRA BOOSTER   \n",
       "3  569111      BOOSTER PACK -A FIST OF DIVINE SPEED- [OP-11]     BOOSTER PACK   \n",
       "4  569110                 BOOSTER PACK -ROYAL BLOOD- [OP-10]     BOOSTER PACK   \n",
       "\n",
       "                  set_name set_number  \n",
       "0  ONE PIECE CARD THE BEST   [PRB-01]  \n",
       "1    Anime 25th Collection    [EB-02]  \n",
       "2      MEMORIAL COLLECTION    [EB-01]  \n",
       "3   A FIST OF DIVINE SPEED    [OP-11]  \n",
       "4              ROYAL BLOOD    [OP-10]  "
      ]
     },
     "execution_count": 3,
     "metadata": {},
     "output_type": "execute_result"
    }
   ],
   "source": [
    "# Convert to DataFrame\n",
    "df_sets = pd.DataFrame(flattened_sets)\n",
    "df_sets.head()"
   ]
  },
  {
   "cell_type": "code",
   "execution_count": 4,
   "id": "d0b34427-1914-4100-bc45-2a41e7ee7874",
   "metadata": {},
   "outputs": [
    {
     "data": {
      "text/plain": [
       "set_type\n",
       "STARTER DECK          24\n",
       "BOOSTER PACK          11\n",
       "EXTRA BOOSTER          2\n",
       "ULTRA DECK             2\n",
       "PREMIUM BOOSTER        1\n",
       "STARTER DECK EX        1\n",
       "Promotion card         1\n",
       "Other Product Card     1\n",
       "Name: count, dtype: int64"
      ]
     },
     "execution_count": 4,
     "metadata": {},
     "output_type": "execute_result"
    }
   ],
   "source": [
    "df_sets['set_type'].value_counts()"
   ]
  },
  {
   "cell_type": "markdown",
   "id": "5a87a874-1b23-4bb1-a8e5-f4a48df5c285",
   "metadata": {},
   "source": [
    "### -- Set Type --\n",
    "* Expecting there to be a significant difference between the set types, namely between the Decks and the Boosters\n",
    "* Not sure what might be included in the \"Promotion card\" and \"Other Product Card\" categories, as there are quite a lot of cards that are only available through certain channels and would otherwise be unattainable:\n",
    "    * tournamenets (local, regional, worlds)\n",
    "    * a promotion or collaboration event (e.g. recent promotion with the LA Dodgers)\n",
    "    * individual product releases that are sold individually or as part of a special bundle/package\n",
    "        * these cards can often be sold with other non-card products, such as playmats, card sleeves, card containers/boxes, etc\n",
    "        * these cards will have different artwork\n",
    "---"
   ]
  },
  {
   "cell_type": "markdown",
   "id": "4b28155f-9c08-4369-9cac-6c3ee0b7f68e",
   "metadata": {},
   "source": [
    "## --- Cards --- "
   ]
  },
  {
   "cell_type": "code",
   "execution_count": 5,
   "id": "3ac2fb60-eed3-485c-be87-2e2f2876e5c1",
   "metadata": {},
   "outputs": [
    {
     "name": "stdout",
     "output_type": "stream",
     "text": [
      "Loaded 2924 cards.\n"
     ]
    }
   ],
   "source": [
    "# Load cards \n",
    "with open(\"data/onepiece_cards.json\", \"r\") as f:\n",
    "    cards = json.load(f)\n",
    "\n",
    "print(f\"Loaded {len(cards)} cards.\")"
   ]
  },
  {
   "cell_type": "code",
   "execution_count": 6,
   "id": "9a3c19f2-63d5-4d17-a06b-77f3cc5b9d79",
   "metadata": {},
   "outputs": [],
   "source": [
    "# Flatten the nested card data\n",
    "flattened_cards = []\n",
    "\n",
    "for card in cards:\n",
    "    flat = {\n",
    "        \"card_name\": card.get(\"card_name\"),\n",
    "        \"card_id\": card.get(\"card_id\"),\n",
    "        \"info_spans\": \", \".join(card.get(\"info_spans\", [])),  # Include set label if present\n",
    "    }\n",
    "\n",
    "    back_data = card.get(\"back_data\", {})\n",
    "    flat.update(back_data)\n",
    "\n",
    "    flattened_cards.append(flat)\n"
   ]
  },
  {
   "cell_type": "code",
   "execution_count": 7,
   "id": "2f76311e-a272-46b1-9b8b-53f8725ba244",
   "metadata": {},
   "outputs": [],
   "source": [
    "df = pd.DataFrame(flattened_cards)"
   ]
  },
  {
   "cell_type": "code",
   "execution_count": 8,
   "id": "4c20106c-6a84-4ec9-9e08-aaca4c6c73b3",
   "metadata": {},
   "outputs": [
    {
     "data": {
      "text/html": [
       "<div>\n",
       "<style scoped>\n",
       "    .dataframe tbody tr th:only-of-type {\n",
       "        vertical-align: middle;\n",
       "    }\n",
       "\n",
       "    .dataframe tbody tr th {\n",
       "        vertical-align: top;\n",
       "    }\n",
       "\n",
       "    .dataframe thead th {\n",
       "        text-align: right;\n",
       "    }\n",
       "</style>\n",
       "<table border=\"1\" class=\"dataframe\">\n",
       "  <thead>\n",
       "    <tr style=\"text-align: right;\">\n",
       "      <th></th>\n",
       "      <th>card_name</th>\n",
       "      <th>card_id</th>\n",
       "      <th>info_spans</th>\n",
       "      <th>cost</th>\n",
       "      <th>attribute</th>\n",
       "      <th>power</th>\n",
       "      <th>counter</th>\n",
       "      <th>color</th>\n",
       "      <th>block</th>\n",
       "      <th>feature</th>\n",
       "      <th>text</th>\n",
       "      <th>getInfo</th>\n",
       "    </tr>\n",
       "  </thead>\n",
       "  <tbody>\n",
       "    <tr>\n",
       "      <th>0</th>\n",
       "      <td>Tony Tony.Chopper</td>\n",
       "      <td>EB01-006_r1</td>\n",
       "      <td>EB01-006, SR, CHARACTER</td>\n",
       "      <td>3</td>\n",
       "      <td>Strike</td>\n",
       "      <td>4000</td>\n",
       "      <td>1000</td>\n",
       "      <td>Red</td>\n",
       "      <td>2</td>\n",
       "      <td>Animal/Straw Hat Crew</td>\n",
       "      <td>Effect [Blocker] (After your opponent declares...</td>\n",
       "      <td>-ONE PIECE CARD THE BEST- [PRB-01]</td>\n",
       "    </tr>\n",
       "    <tr>\n",
       "      <th>1</th>\n",
       "      <td>Otama</td>\n",
       "      <td>OP01-006_p3</td>\n",
       "      <td>OP01-006, UC, CHARACTER</td>\n",
       "      <td>1</td>\n",
       "      <td>Special</td>\n",
       "      <td>-</td>\n",
       "      <td>2000</td>\n",
       "      <td>Red</td>\n",
       "      <td>1</td>\n",
       "      <td>Land of Wano</td>\n",
       "      <td>Effect [On Play] Give up to 1 of your opponent...</td>\n",
       "      <td>-ONE PIECE CARD THE BEST- [PRB-01]</td>\n",
       "    </tr>\n",
       "    <tr>\n",
       "      <th>2</th>\n",
       "      <td>Otama</td>\n",
       "      <td>OP01-006_p4</td>\n",
       "      <td>OP01-006, UC, CHARACTER</td>\n",
       "      <td>1</td>\n",
       "      <td>Special</td>\n",
       "      <td>-</td>\n",
       "      <td>2000</td>\n",
       "      <td>Red</td>\n",
       "      <td>1</td>\n",
       "      <td>Land of Wano</td>\n",
       "      <td>Effect [On Play] Give up to 1 of your opponent...</td>\n",
       "      <td>-ONE PIECE CARD THE BEST- [PRB-01]</td>\n",
       "    </tr>\n",
       "    <tr>\n",
       "      <th>3</th>\n",
       "      <td>Otama</td>\n",
       "      <td>OP01-006_p5</td>\n",
       "      <td>OP01-006, UC, CHARACTER</td>\n",
       "      <td>1</td>\n",
       "      <td>Special</td>\n",
       "      <td>-</td>\n",
       "      <td>2000</td>\n",
       "      <td>Red</td>\n",
       "      <td>1</td>\n",
       "      <td>Land of Wano</td>\n",
       "      <td>Effect [On Play] Give up to 1 of your opponent...</td>\n",
       "      <td>-ONE PIECE CARD THE BEST- [PRB-01]</td>\n",
       "    </tr>\n",
       "    <tr>\n",
       "      <th>4</th>\n",
       "      <td>Otama</td>\n",
       "      <td>OP01-006_r1</td>\n",
       "      <td>OP01-006, UC, CHARACTER</td>\n",
       "      <td>1</td>\n",
       "      <td>Special</td>\n",
       "      <td>-</td>\n",
       "      <td>2000</td>\n",
       "      <td>Red</td>\n",
       "      <td>1</td>\n",
       "      <td>Land of Wano</td>\n",
       "      <td>Effect [On Play] Give up to 1 of your opponent...</td>\n",
       "      <td>-ONE PIECE CARD THE BEST- [PRB-01]</td>\n",
       "    </tr>\n",
       "  </tbody>\n",
       "</table>\n",
       "</div>"
      ],
      "text/plain": [
       "           card_name      card_id               info_spans cost attribute  \\\n",
       "0  Tony Tony.Chopper  EB01-006_r1  EB01-006, SR, CHARACTER    3    Strike   \n",
       "1              Otama  OP01-006_p3  OP01-006, UC, CHARACTER    1   Special   \n",
       "2              Otama  OP01-006_p4  OP01-006, UC, CHARACTER    1   Special   \n",
       "3              Otama  OP01-006_p5  OP01-006, UC, CHARACTER    1   Special   \n",
       "4              Otama  OP01-006_r1  OP01-006, UC, CHARACTER    1   Special   \n",
       "\n",
       "  power counter color block                feature  \\\n",
       "0  4000    1000   Red     2  Animal/Straw Hat Crew   \n",
       "1     -    2000   Red     1           Land of Wano   \n",
       "2     -    2000   Red     1           Land of Wano   \n",
       "3     -    2000   Red     1           Land of Wano   \n",
       "4     -    2000   Red     1           Land of Wano   \n",
       "\n",
       "                                                text  \\\n",
       "0  Effect [Blocker] (After your opponent declares...   \n",
       "1  Effect [On Play] Give up to 1 of your opponent...   \n",
       "2  Effect [On Play] Give up to 1 of your opponent...   \n",
       "3  Effect [On Play] Give up to 1 of your opponent...   \n",
       "4  Effect [On Play] Give up to 1 of your opponent...   \n",
       "\n",
       "                              getInfo  \n",
       "0  -ONE PIECE CARD THE BEST- [PRB-01]  \n",
       "1  -ONE PIECE CARD THE BEST- [PRB-01]  \n",
       "2  -ONE PIECE CARD THE BEST- [PRB-01]  \n",
       "3  -ONE PIECE CARD THE BEST- [PRB-01]  \n",
       "4  -ONE PIECE CARD THE BEST- [PRB-01]  "
      ]
     },
     "execution_count": 8,
     "metadata": {},
     "output_type": "execute_result"
    }
   ],
   "source": [
    "df.head()"
   ]
  },
  {
   "cell_type": "markdown",
   "id": "e18ba88a-9f25-48b1-b336-bf9b76ef887b",
   "metadata": {},
   "source": [
    "* separate info_spans to 3 columns\n",
    "* Notice that the set info from info_spans is different from getInfo\n",
    "    * PRB is a special type of set that contains mainly reprints from older sets\n",
    "    * the \"set\" info from info_spans is in regard to when the original card first released\n",
    "    * the set info from getInfo will be regarding the set that the reprint is from\n",
    "* column if reprint?  \n",
    "---\n",
    "* feature and card can be split by \"/\"\n",
    "    * column if multi-card and if multi-feature\n",
    "* can extract from text column anything in brackets [] for effect e.g. [Blocker] , [On Play]\n",
    "    * column if multi-effect\n",
    "    * text column easily looks like the most difficult to fully extract all information\n",
    "---"
   ]
  },
  {
   "cell_type": "markdown",
   "id": "aa0c3b88-b159-4815-b7f1-d22bb8f7d501",
   "metadata": {},
   "source": [
    "### -- Text/Effects -- "
   ]
  },
  {
   "cell_type": "code",
   "execution_count": 9,
   "id": "e32e6b03-9a17-4ea6-ab45-475138b990c9",
   "metadata": {},
   "outputs": [
    {
     "data": {
      "text/plain": [
       "0       [Blocker, DON!! x2, When Attacking]\n",
       "1                                 [On Play]\n",
       "2                                 [On Play]\n",
       "3                                 [On Play]\n",
       "4                                 [On Play]\n",
       "                       ...                 \n",
       "2919                             [DON!! x1]\n",
       "2920                              [Blocker]\n",
       "2921                       [When Attacking]\n",
       "2922             [DON!! x1, When Attacking]\n",
       "2923         [Rush, Once Per Turn, Blocker]\n",
       "Name: text, Length: 2924, dtype: object"
      ]
     },
     "execution_count": 9,
     "metadata": {},
     "output_type": "execute_result"
    }
   ],
   "source": [
    "df[\"text\"].str.findall(r'\\[([^\\[\\]]+)\\]') # returns a list of all the values inside the brackets"
   ]
  },
  {
   "cell_type": "code",
   "execution_count": 10,
   "id": "121d2e32-6dab-4223-b431-bcbf9cc99503",
   "metadata": {},
   "outputs": [
    {
     "data": {
      "text/plain": [
       "text\n",
       "[On Play]                                                     497\n",
       "[]                                                            304\n",
       "[Main]                                                        176\n",
       "[Activate: Main]                                              150\n",
       "[Counter]                                                     134\n",
       "                                                             ... \n",
       "[DON!! x1, Once Per Turn, Your Turn]                            1\n",
       "[Rush, Once Per Turn]                                           1\n",
       "[When Attacking, Edward.Newgate]                                1\n",
       "[Uta]                                                           1\n",
       "[DON!! x1, Opponent's Turn, Activate: Main, Once Per Turn]      1\n",
       "Name: count, Length: 377, dtype: int64"
      ]
     },
     "execution_count": 10,
     "metadata": {},
     "output_type": "execute_result"
    }
   ],
   "source": [
    "df[\"text\"].str.findall(r'\\[([^\\[\\]]+)\\]').value_counts()"
   ]
  },
  {
   "cell_type": "code",
   "execution_count": 11,
   "id": "2305566f-2ecb-4cd0-a76b-6664564d51eb",
   "metadata": {},
   "outputs": [
    {
     "data": {
      "text/plain": [
       "\"Effect [Blocker] (After your opponent declares an attack, you may rest this card to make it the new target of the attack.) [DON!! x2] [When Attacking] Give up to 1 of your opponent's Characters −3000 power during this turn.\""
      ]
     },
     "execution_count": 11,
     "metadata": {},
     "output_type": "execute_result"
    }
   ],
   "source": [
    "df['text'][0]"
   ]
  },
  {
   "cell_type": "markdown",
   "id": "6d1d8700-27d4-468c-8dec-2554cb8ae56f",
   "metadata": {},
   "source": [
    "* Quite a lot of unique combinations\n",
    "* Did not expect the [DON!!] to be in bracket by itself; will have to comb through for any other unexpected single values in effects\n",
    "---"
   ]
  },
  {
   "cell_type": "markdown",
   "id": "f74d449a-f14e-4833-8d91-857ac065eae3",
   "metadata": {},
   "source": [
    "#### - Single Effects - "
   ]
  },
  {
   "cell_type": "code",
   "execution_count": 23,
   "id": "1a62c3db-156f-44d2-bb3b-d5f91f00baf1",
   "metadata": {},
   "outputs": [
    {
     "data": {
      "text/plain": [
       "1              [On Play]\n",
       "2              [On Play]\n",
       "3              [On Play]\n",
       "4              [On Play]\n",
       "8              [Counter]\n",
       "              ...       \n",
       "2917           [On Play]\n",
       "2918          [DON!! x1]\n",
       "2919          [DON!! x1]\n",
       "2920           [Blocker]\n",
       "2921    [When Attacking]\n",
       "Name: text, Length: 1328, dtype: object"
      ]
     },
     "execution_count": 23,
     "metadata": {},
     "output_type": "execute_result"
    }
   ],
   "source": [
    "s = df[\"text\"].fillna(\"\").str.findall(r'\\[([^\\[\\]]+)\\]') # ensures rows without text become blank list [] after findall so that .str.len() works cleanly\n",
    "s[s.str.len().eq(1)] # returns rows with only 1 effect"
   ]
  },
  {
   "cell_type": "code",
   "execution_count": 30,
   "id": "9a7a9a5a-4f30-4304-8ff1-95d697e140c1",
   "metadata": {
    "scrolled": true
   },
   "outputs": [],
   "source": [
    "unique_effects = (\n",
    "    df[\"text\"].fillna(\"\")\n",
    "        .str.findall(r'\\[([^\\[\\]]+)\\]')\n",
    "        .pipe(lambda s: s[s.str.len().eq(1)].str[0]).unique() \n",
    ")"
   ]
  },
  {
   "cell_type": "code",
   "execution_count": 35,
   "id": "7ad123bd-e757-4259-9652-33fd3b4f55f6",
   "metadata": {},
   "outputs": [
    {
     "name": "stdout",
     "output_type": "stream",
     "text": [
      "['On Play' 'Counter' 'Activate: Main' 'Main' 'When Attacking' 'DON!! x1'\n",
      " 'On K.O.' 'End of Your Turn' 'Blocker' 'DON!! x2' 'Once Per Turn'\n",
      " 'Shirahoshi' 'Tashigi' \"Opponent's Turn\" 'Sabo' 'Rush' 'Bonk Punch'\n",
      " 'Pekoms' 'Monkey.D.Luffy' 'Pickles' 'Your Turn' 'Banish'\n",
      " \"On Your Opponent's Attack\" 'Charlotte Linlin' 'Fullbody' 'Trigger'\n",
      " 'Kurozumi Semimaru' 'Uta' 'Double Attack']\n"
     ]
    }
   ],
   "source": [
    "print(unique_effects)"
   ]
  },
  {
   "cell_type": "code",
   "execution_count": 36,
   "id": "c6bd577b-23df-4d0a-8395-fcf539136139",
   "metadata": {},
   "outputs": [
    {
     "name": "stdout",
     "output_type": "stream",
     "text": [
      "29\n"
     ]
    }
   ],
   "source": [
    "print(len(unique_effects))"
   ]
  },
  {
   "cell_type": "markdown",
   "id": "f14b5d53-edd3-4514-a6ce-a11ea3b5aca4",
   "metadata": {},
   "source": [
    "* Effects like 'On Play' and 'Banish' are expected\n",
    "* Effects like 'Activate: Main' and 'Main' are worth looking into to determine what the distinctions are between similar-sounding effects\n",
    "---\n",
    "* But effects like \"Tashigi\" and \"Charlotte Linlin\" make less senese, as they are the names of characters and therefore should show up under Card Name\n",
    "    * Even though it could be a special condition for an effect, will need to confirm that this is the case for each one (unless this is simply just a mistake)\n",
    "--- \n",
    "* Nothing else seems out of place except for the DON!! effect"
   ]
  },
  {
   "cell_type": "code",
   "execution_count": 33,
   "id": "711250fd-47a3-403a-b081-b305e2200b04",
   "metadata": {},
   "outputs": [
    {
     "data": {
      "text/plain": [
       "text\n",
       "On Play                      497\n",
       "Main                         176\n",
       "Activate: Main               150\n",
       "Counter                      134\n",
       "Blocker                      116\n",
       "When Attacking                89\n",
       "DON!! x1                      33\n",
       "End of Your Turn              28\n",
       "On K.O.                       27\n",
       "Once Per Turn                 14\n",
       "Rush                          14\n",
       "Your Turn                     11\n",
       "DON!! x2                       8\n",
       "On Your Opponent's Attack      5\n",
       "Banish                         5\n",
       "Opponent's Turn                4\n",
       "Tashigi                        2\n",
       "Monkey.D.Luffy                 2\n",
       "Double Attack                  2\n",
       "Bonk Punch                     2\n",
       "Shirahoshi                     1\n",
       "Pickles                        1\n",
       "Pekoms                         1\n",
       "Sabo                           1\n",
       "Charlotte Linlin               1\n",
       "Fullbody                       1\n",
       "Trigger                        1\n",
       "Kurozumi Semimaru              1\n",
       "Uta                            1\n",
       "Name: count, dtype: int64"
      ]
     },
     "execution_count": 33,
     "metadata": {},
     "output_type": "execute_result"
    }
   ],
   "source": [
    "df[\"text\"].fillna(\"\").str.findall(r'\\[([^\\[\\]]+)\\]').pipe(lambda s: s[s.str.len().eq(1)].str[0]).value_counts()"
   ]
  },
  {
   "cell_type": "markdown",
   "id": "81a2baff-5e35-402e-9d5b-58101131d083",
   "metadata": {},
   "source": [
    "#### - Character-name Effects -"
   ]
  },
  {
   "cell_type": "code",
   "execution_count": 50,
   "id": "945df6f4-ff8f-4a13-b808-933ca682e844",
   "metadata": {},
   "outputs": [],
   "source": [
    "targets = {'Monkey.D.Luffy', 'Bonk Punch', 'Shirahoshi', 'Pickles', 'Pekoms', 'Sabo', 'Charlotte Linlin',\n",
    "           'Fullbody', 'Kurozumi Semimaru', 'Uta', 'Tashigi'} "
   ]
  },
  {
   "cell_type": "code",
   "execution_count": 51,
   "id": "28c33717-4114-4947-9695-404737f3d434",
   "metadata": {},
   "outputs": [
    {
     "data": {
      "text/html": [
       "<div>\n",
       "<style scoped>\n",
       "    .dataframe tbody tr th:only-of-type {\n",
       "        vertical-align: middle;\n",
       "    }\n",
       "\n",
       "    .dataframe tbody tr th {\n",
       "        vertical-align: top;\n",
       "    }\n",
       "\n",
       "    .dataframe thead th {\n",
       "        text-align: right;\n",
       "    }\n",
       "</style>\n",
       "<table border=\"1\" class=\"dataframe\">\n",
       "  <thead>\n",
       "    <tr style=\"text-align: right;\">\n",
       "      <th></th>\n",
       "      <th>card_name</th>\n",
       "      <th>card_id</th>\n",
       "      <th>info_spans</th>\n",
       "      <th>cost</th>\n",
       "      <th>attribute</th>\n",
       "      <th>power</th>\n",
       "      <th>counter</th>\n",
       "      <th>color</th>\n",
       "      <th>block</th>\n",
       "      <th>feature</th>\n",
       "      <th>text</th>\n",
       "      <th>getInfo</th>\n",
       "      <th>effects</th>\n",
       "    </tr>\n",
       "  </thead>\n",
       "  <tbody>\n",
       "    <tr>\n",
       "      <th>323</th>\n",
       "      <td>Sabo</td>\n",
       "      <td>EB02-002</td>\n",
       "      <td>EB02-002, R, CHARACTER</td>\n",
       "      <td>4</td>\n",
       "      <td>Special</td>\n",
       "      <td>5000</td>\n",
       "      <td>2000</td>\n",
       "      <td>Red</td>\n",
       "      <td>3</td>\n",
       "      <td>Dressrosa/Revolutionary Army</td>\n",
       "      <td>Effect [Activate: Main] You may rest this Char...</td>\n",
       "      <td>-Anime 25th Collection- [EB-02]</td>\n",
       "      <td>[Activate: Main, Sabo]</td>\n",
       "    </tr>\n",
       "    <tr>\n",
       "      <th>539</th>\n",
       "      <td>Bulge-Eyed Neptunian</td>\n",
       "      <td>OP11-027</td>\n",
       "      <td>OP11-027, C, CHARACTER</td>\n",
       "      <td>4</td>\n",
       "      <td>Strike</td>\n",
       "      <td>6000</td>\n",
       "      <td>-</td>\n",
       "      <td>Green</td>\n",
       "      <td>3</td>\n",
       "      <td>Neptunian</td>\n",
       "      <td>Effect If your Leader is [Shirahoshi], this Ch...</td>\n",
       "      <td>-A FIST OF DIVINE SPEED- [OP-11]</td>\n",
       "      <td>[Shirahoshi]</td>\n",
       "    </tr>\n",
       "    <tr>\n",
       "      <th>549</th>\n",
       "      <td>Spotted Neptunian</td>\n",
       "      <td>OP11-036</td>\n",
       "      <td>OP11-036, UC, CHARACTER</td>\n",
       "      <td>4</td>\n",
       "      <td>Strike</td>\n",
       "      <td>5000</td>\n",
       "      <td>1000</td>\n",
       "      <td>Green</td>\n",
       "      <td>3</td>\n",
       "      <td>Neptunian</td>\n",
       "      <td>Effect [On Play] If your Leader is [Shirahoshi...</td>\n",
       "      <td>-A FIST OF DIVINE SPEED- [OP-11]</td>\n",
       "      <td>[On Play, Shirahoshi, Shirahoshi]</td>\n",
       "    </tr>\n",
       "    <tr>\n",
       "      <th>626</th>\n",
       "      <td>Otohime</td>\n",
       "      <td>OP11-100</td>\n",
       "      <td>OP11-100, C, CHARACTER</td>\n",
       "      <td>1</td>\n",
       "      <td>Wisdom</td>\n",
       "      <td>-</td>\n",
       "      <td>2000</td>\n",
       "      <td>Yellow</td>\n",
       "      <td>3</td>\n",
       "      <td>Merfolk/Fish-Man Island</td>\n",
       "      <td>Effect [On Play] If your Leader is [Shirahoshi...</td>\n",
       "      <td>-A FIST OF DIVINE SPEED- [OP-11]</td>\n",
       "      <td>[On Play, Shirahoshi]</td>\n",
       "    </tr>\n",
       "    <tr>\n",
       "      <th>630</th>\n",
       "      <td>Long-Jaw Neptunian</td>\n",
       "      <td>OP11-103</td>\n",
       "      <td>OP11-103, C, CHARACTER</td>\n",
       "      <td>5</td>\n",
       "      <td>Strike</td>\n",
       "      <td>7000</td>\n",
       "      <td>-</td>\n",
       "      <td>Yellow</td>\n",
       "      <td>3</td>\n",
       "      <td>Neptunian</td>\n",
       "      <td>Effect [Activate: Main] If your Leader is [Shi...</td>\n",
       "      <td>-A FIST OF DIVINE SPEED- [OP-11]</td>\n",
       "      <td>[Activate: Main, Shirahoshi]</td>\n",
       "    </tr>\n",
       "    <tr>\n",
       "      <th>...</th>\n",
       "      <td>...</td>\n",
       "      <td>...</td>\n",
       "      <td>...</td>\n",
       "      <td>...</td>\n",
       "      <td>...</td>\n",
       "      <td>...</td>\n",
       "      <td>...</td>\n",
       "      <td>...</td>\n",
       "      <td>...</td>\n",
       "      <td>...</td>\n",
       "      <td>...</td>\n",
       "      <td>...</td>\n",
       "      <td>...</td>\n",
       "    </tr>\n",
       "    <tr>\n",
       "      <th>2866</th>\n",
       "      <td>Backlight</td>\n",
       "      <td>ST11-003_p1</td>\n",
       "      <td>ST11-003, C, EVENT</td>\n",
       "      <td>2</td>\n",
       "      <td>-</td>\n",
       "      <td>-</td>\n",
       "      <td>-</td>\n",
       "      <td>Green</td>\n",
       "      <td>2</td>\n",
       "      <td>Music/FILM</td>\n",
       "      <td>Effect [Main] If your Leader is [Uta], choose ...</td>\n",
       "      <td>ST-11 Uta Deck Battle Participation Pack</td>\n",
       "      <td>[Main, Uta]</td>\n",
       "    </tr>\n",
       "    <tr>\n",
       "      <th>2867</th>\n",
       "      <td>New Genesis</td>\n",
       "      <td>ST11-004_p1</td>\n",
       "      <td>ST11-004, SR, EVENT</td>\n",
       "      <td>1</td>\n",
       "      <td>-</td>\n",
       "      <td>-</td>\n",
       "      <td>-</td>\n",
       "      <td>Green</td>\n",
       "      <td>2</td>\n",
       "      <td>Music/FILM</td>\n",
       "      <td>Effect [Main] If your Leader is [Uta], look at...</td>\n",
       "      <td>ST-11 Uta Deck Battle Participation Pack</td>\n",
       "      <td>[Main, Uta, New Genesis]</td>\n",
       "    </tr>\n",
       "    <tr>\n",
       "      <th>2868</th>\n",
       "      <td>I'm invincible</td>\n",
       "      <td>ST11-005_p1</td>\n",
       "      <td>ST11-005, C, EVENT</td>\n",
       "      <td>3</td>\n",
       "      <td>-</td>\n",
       "      <td>-</td>\n",
       "      <td>-</td>\n",
       "      <td>Green</td>\n",
       "      <td>2</td>\n",
       "      <td>Music/FILM</td>\n",
       "      <td>Effect [Main] Set up to 1 of your [Uta] Leader...</td>\n",
       "      <td>ST-11 Uta Deck Battle Participation Pack</td>\n",
       "      <td>[Main, Uta]</td>\n",
       "    </tr>\n",
       "    <tr>\n",
       "      <th>2876</th>\n",
       "      <td>Uta</td>\n",
       "      <td>OP01-005_p1</td>\n",
       "      <td>OP01-005, R, CHARACTER</td>\n",
       "      <td>4</td>\n",
       "      <td>Special</td>\n",
       "      <td>4000</td>\n",
       "      <td>-</td>\n",
       "      <td>Red</td>\n",
       "      <td>1</td>\n",
       "      <td>FILM</td>\n",
       "      <td>Effect [On Play] Add up to 1 red Character car...</td>\n",
       "      <td>Premium Card Collection -FILM RED Edition-</td>\n",
       "      <td>[On Play, Uta]</td>\n",
       "    </tr>\n",
       "    <tr>\n",
       "      <th>2877</th>\n",
       "      <td>Uta</td>\n",
       "      <td>OP01-005_p2</td>\n",
       "      <td>OP01-005, R, CHARACTER</td>\n",
       "      <td>4</td>\n",
       "      <td>Special</td>\n",
       "      <td>4000</td>\n",
       "      <td>-</td>\n",
       "      <td>Red</td>\n",
       "      <td>1</td>\n",
       "      <td>FILM</td>\n",
       "      <td>Effect [On Play] Add up to 1 red Character car...</td>\n",
       "      <td>GIFT COLLECTION 2023 [GC-01]</td>\n",
       "      <td>[On Play, Uta]</td>\n",
       "    </tr>\n",
       "  </tbody>\n",
       "</table>\n",
       "<p>74 rows × 13 columns</p>\n",
       "</div>"
      ],
      "text/plain": [
       "                 card_name      card_id               info_spans cost  \\\n",
       "323                   Sabo     EB02-002   EB02-002, R, CHARACTER    4   \n",
       "539   Bulge-Eyed Neptunian     OP11-027   OP11-027, C, CHARACTER    4   \n",
       "549      Spotted Neptunian     OP11-036  OP11-036, UC, CHARACTER    4   \n",
       "626                Otohime     OP11-100   OP11-100, C, CHARACTER    1   \n",
       "630     Long-Jaw Neptunian     OP11-103   OP11-103, C, CHARACTER    5   \n",
       "...                    ...          ...                      ...  ...   \n",
       "2866             Backlight  ST11-003_p1       ST11-003, C, EVENT    2   \n",
       "2867           New Genesis  ST11-004_p1      ST11-004, SR, EVENT    1   \n",
       "2868        I'm invincible  ST11-005_p1       ST11-005, C, EVENT    3   \n",
       "2876                   Uta  OP01-005_p1   OP01-005, R, CHARACTER    4   \n",
       "2877                   Uta  OP01-005_p2   OP01-005, R, CHARACTER    4   \n",
       "\n",
       "     attribute power counter   color block                       feature  \\\n",
       "323    Special  5000    2000     Red     3  Dressrosa/Revolutionary Army   \n",
       "539     Strike  6000       -   Green     3                     Neptunian   \n",
       "549     Strike  5000    1000   Green     3                     Neptunian   \n",
       "626     Wisdom     -    2000  Yellow     3       Merfolk/Fish-Man Island   \n",
       "630     Strike  7000       -  Yellow     3                     Neptunian   \n",
       "...        ...   ...     ...     ...   ...                           ...   \n",
       "2866         -     -       -   Green     2                    Music/FILM   \n",
       "2867         -     -       -   Green     2                    Music/FILM   \n",
       "2868         -     -       -   Green     2                    Music/FILM   \n",
       "2876   Special  4000       -     Red     1                          FILM   \n",
       "2877   Special  4000       -     Red     1                          FILM   \n",
       "\n",
       "                                                   text  \\\n",
       "323   Effect [Activate: Main] You may rest this Char...   \n",
       "539   Effect If your Leader is [Shirahoshi], this Ch...   \n",
       "549   Effect [On Play] If your Leader is [Shirahoshi...   \n",
       "626   Effect [On Play] If your Leader is [Shirahoshi...   \n",
       "630   Effect [Activate: Main] If your Leader is [Shi...   \n",
       "...                                                 ...   \n",
       "2866  Effect [Main] If your Leader is [Uta], choose ...   \n",
       "2867  Effect [Main] If your Leader is [Uta], look at...   \n",
       "2868  Effect [Main] Set up to 1 of your [Uta] Leader...   \n",
       "2876  Effect [On Play] Add up to 1 red Character car...   \n",
       "2877  Effect [On Play] Add up to 1 red Character car...   \n",
       "\n",
       "                                         getInfo  \\\n",
       "323              -Anime 25th Collection- [EB-02]   \n",
       "539             -A FIST OF DIVINE SPEED- [OP-11]   \n",
       "549             -A FIST OF DIVINE SPEED- [OP-11]   \n",
       "626             -A FIST OF DIVINE SPEED- [OP-11]   \n",
       "630             -A FIST OF DIVINE SPEED- [OP-11]   \n",
       "...                                          ...   \n",
       "2866    ST-11 Uta Deck Battle Participation Pack   \n",
       "2867    ST-11 Uta Deck Battle Participation Pack   \n",
       "2868    ST-11 Uta Deck Battle Participation Pack   \n",
       "2876  Premium Card Collection -FILM RED Edition-   \n",
       "2877                GIFT COLLECTION 2023 [GC-01]   \n",
       "\n",
       "                                effects  \n",
       "323              [Activate: Main, Sabo]  \n",
       "539                        [Shirahoshi]  \n",
       "549   [On Play, Shirahoshi, Shirahoshi]  \n",
       "626               [On Play, Shirahoshi]  \n",
       "630        [Activate: Main, Shirahoshi]  \n",
       "...                                 ...  \n",
       "2866                        [Main, Uta]  \n",
       "2867           [Main, Uta, New Genesis]  \n",
       "2868                        [Main, Uta]  \n",
       "2876                     [On Play, Uta]  \n",
       "2877                     [On Play, Uta]  \n",
       "\n",
       "[74 rows x 13 columns]"
      ]
     },
     "execution_count": 51,
     "metadata": {},
     "output_type": "execute_result"
    }
   ],
   "source": [
    "mask = s.apply(lambda lst: any(x in targets for x in lst))\n",
    "df[mask]"
   ]
  },
  {
   "cell_type": "markdown",
   "id": "eedc67c0-df8b-484c-bb60-d0dc6832dd6e",
   "metadata": {},
   "source": [
    "I didn't do this correctly, there could be more.\n",
    "- I looked up single effects first, then extracted the list\n",
    "- There could be other effects that are not single effects, and only part of multi-effects\n",
    "    - create an effects column\n",
    "    - from there, extract set of effects and search that"
   ]
  },
  {
   "cell_type": "code",
   "execution_count": null,
   "id": "731e1534-d281-4065-a3c1-49a7596bbc32",
   "metadata": {},
   "outputs": [],
   "source": [
    "df['effects'] = df[\"text\"].fillna(\"\").str.findall(r'\\[([^\\[\\]]+)\\]')"
   ]
  },
  {
   "cell_type": "code",
   "execution_count": 44,
   "id": "c3a66da6-6d33-416f-9645-cd931564d20d",
   "metadata": {},
   "outputs": [],
   "source": [
    "effects_list = set(df['effects'].explode().dropna())"
   ]
  },
  {
   "cell_type": "code",
   "execution_count": 45,
   "id": "e8704184-716f-4d80-b91d-c3ead5bdb692",
   "metadata": {},
   "outputs": [
    {
     "data": {
      "text/plain": [
       "{'Activate: Main',\n",
       " 'Alvida',\n",
       " 'Artificial Devil Fruit SMILE',\n",
       " 'Banish',\n",
       " 'Baron Tamago',\n",
       " 'Baroque Works',\n",
       " 'Bartolomeo',\n",
       " 'Belo Betty',\n",
       " 'Bepo',\n",
       " 'Bian',\n",
       " 'Biscuit Warrior',\n",
       " 'Black Maria',\n",
       " 'Blocker',\n",
       " 'Blueno',\n",
       " 'Blugori',\n",
       " 'Boa Hancock',\n",
       " 'Bonk Punch',\n",
       " 'Brannew',\n",
       " 'Buchi',\n",
       " 'Buena Festa',\n",
       " 'Buggy',\n",
       " 'Caesar Clown',\n",
       " 'Camie',\n",
       " 'Capone\"Gang\"Bege',\n",
       " 'Caribou',\n",
       " 'Cavendish',\n",
       " 'Charlotte Anana',\n",
       " 'Charlotte Katakuri',\n",
       " 'Charlotte Linlin',\n",
       " 'Charlotte Pudding',\n",
       " 'Charlotte Smoothie',\n",
       " 'Chess',\n",
       " \"Come On!! We'll Fight You!!\",\n",
       " 'Corrida Coliseum',\n",
       " 'Count Niwatori',\n",
       " 'Counter',\n",
       " 'DON!! x1',\n",
       " 'DON!! x2',\n",
       " 'Daifugo',\n",
       " 'Dereshi!',\n",
       " 'Dogura',\n",
       " 'Donquixote Doflamingo',\n",
       " 'Donquixote Rosinante',\n",
       " 'Double Attack',\n",
       " 'Dr. Hogback',\n",
       " 'Dr.Kureha',\n",
       " 'Dracule Mihawk',\n",
       " 'Edward Weevil',\n",
       " 'Edward.Newgate',\n",
       " 'Emporio.Ivankov',\n",
       " 'End of Your Turn',\n",
       " 'Enel',\n",
       " 'Eustass\"Captain\"Kid',\n",
       " 'Fish-Man Island',\n",
       " 'Foxy',\n",
       " 'Franky',\n",
       " 'Fullalead',\n",
       " 'Fullbody',\n",
       " 'GERMA 66',\n",
       " 'Gaimon',\n",
       " 'Galley-La Company',\n",
       " 'Gecko Moria',\n",
       " 'Gloriosa (Grandma Nyon)',\n",
       " 'Hannyabal',\n",
       " \"He Possesses the World's Most Brilliant Mind\",\n",
       " 'Helmeppo',\n",
       " 'Holly',\n",
       " 'Hotori',\n",
       " 'I Do Not Forgive Those Who Laugh at My Family!!!',\n",
       " \"I'm Gonna Be a Navy Officer!!!\",\n",
       " 'Ice Oni',\n",
       " 'Iceburg',\n",
       " 'Itomimizu',\n",
       " 'Izo',\n",
       " 'Jango',\n",
       " 'Jinbe',\n",
       " 'Kalgara',\n",
       " 'Killer',\n",
       " \"Kin'emon\",\n",
       " 'King',\n",
       " 'Kokoro',\n",
       " 'Kotori',\n",
       " 'Kouzuki Hiyori',\n",
       " 'Kouzuki Momonosuke',\n",
       " 'Kouzuki Oden',\n",
       " 'Kujyaku',\n",
       " 'Kung Fu Jugon',\n",
       " 'Kuro',\n",
       " 'Kuromarimo',\n",
       " 'Kurozumi Semimaru',\n",
       " 'Kuzan',\n",
       " 'Laboon',\n",
       " 'Leo',\n",
       " \"Let's Crash This Wedding!!!\",\n",
       " 'Lilith',\n",
       " 'Lily Carnation',\n",
       " 'Lim',\n",
       " 'Main',\n",
       " 'Megalo',\n",
       " 'Merry Go',\n",
       " 'Mohji',\n",
       " 'Monkey.D.Garp',\n",
       " 'Monkey.D.Luffy',\n",
       " 'Monster',\n",
       " 'More Pizza!!',\n",
       " 'Mr.3(Galdino)',\n",
       " 'My Era...Begins!!',\n",
       " 'Nami',\n",
       " 'Nefeltari Vivi',\n",
       " 'New Genesis',\n",
       " 'Nico Robin',\n",
       " 'On Block',\n",
       " 'On K.O.',\n",
       " 'On Play',\n",
       " \"On Your Opponent's Attack\",\n",
       " 'Once Per Turn',\n",
       " \"Opponent's Turn\",\n",
       " 'Otama',\n",
       " 'Pacifista',\n",
       " 'Page One',\n",
       " 'Pekoms',\n",
       " 'Penguin',\n",
       " 'Perona',\n",
       " 'Pica',\n",
       " 'Pickles',\n",
       " 'Plague Rounds',\n",
       " 'Portgas.D.Ace',\n",
       " 'Queen',\n",
       " 'Raki',\n",
       " 'Rebecca',\n",
       " 'Richie',\n",
       " 'Ripper',\n",
       " 'Rob Lucci',\n",
       " 'Rock',\n",
       " 'Roronoa Zoro',\n",
       " 'Rush',\n",
       " 'Sabo',\n",
       " 'San-Gorou',\n",
       " 'Sanji',\n",
       " 'Sarfunkel',\n",
       " 'Scarlet',\n",
       " 'Scotch',\n",
       " 'Scratchmen Apoo',\n",
       " 'Shachi',\n",
       " 'Shirahoshi',\n",
       " 'Shura',\n",
       " 'Smiley',\n",
       " 'Smoker',\n",
       " 'Spandam',\n",
       " 'Spandine',\n",
       " 'Stussy',\n",
       " 'Tashigi',\n",
       " 'The Ark Noah',\n",
       " 'Tony Tony.Chopper',\n",
       " 'Trafalgar Law',\n",
       " 'Trigger',\n",
       " 'Ulti',\n",
       " 'Upper Yard',\n",
       " 'Usopp',\n",
       " 'Uta',\n",
       " 'Vegapunk',\n",
       " 'Vergo',\n",
       " 'Vinsmoke Ichiji',\n",
       " 'Vinsmoke Niji',\n",
       " 'Vinsmoke Reiju',\n",
       " 'Vinsmoke Yonji',\n",
       " 'Viscount Hiyoko',\n",
       " 'Wanda',\n",
       " 'When Attacking',\n",
       " \"Who's.Who\",\n",
       " 'Your Turn',\n",
       " 'Zou'}"
      ]
     },
     "execution_count": 45,
     "metadata": {},
     "output_type": "execute_result"
    }
   ],
   "source": [
    "effects_list"
   ]
  },
  {
   "cell_type": "code",
   "execution_count": 46,
   "id": "e45a90a5-92b8-49a9-a462-770e6795b899",
   "metadata": {},
   "outputs": [
    {
     "data": {
      "text/plain": [
       "172"
      ]
     },
     "execution_count": 46,
     "metadata": {},
     "output_type": "execute_result"
    }
   ],
   "source": [
    "len(effects_list)"
   ]
  },
  {
   "cell_type": "code",
   "execution_count": 55,
   "id": "6b91d971-3f5d-4a3d-966f-7ab8ddbe3279",
   "metadata": {},
   "outputs": [],
   "source": [
    "effects_count = df['effects'].explode().value_counts()"
   ]
  },
  {
   "cell_type": "code",
   "execution_count": 58,
   "id": "4a19f12f-6d16-4245-b39d-280510d2c832",
   "metadata": {},
   "outputs": [
    {
     "data": {
      "text/plain": [
       "{'On Play': 982,\n",
       " 'Activate: Main': 426,\n",
       " 'Blocker': 399,\n",
       " 'Once Per Turn': 364,\n",
       " 'When Attacking': 343,\n",
       " 'DON!! x1': 255,\n",
       " 'Main': 234,\n",
       " 'Counter': 157,\n",
       " 'Rush': 129,\n",
       " 'Your Turn': 111,\n",
       " 'On K.O.': 100,\n",
       " 'DON!! x2': 91,\n",
       " 'End of Your Turn': 77,\n",
       " \"Opponent's Turn\": 65,\n",
       " \"On Your Opponent's Attack\": 45,\n",
       " 'Double Attack': 36,\n",
       " 'Banish': 32,\n",
       " 'Uta': 23,\n",
       " 'Monkey.D.Luffy': 22,\n",
       " 'On Block': 20,\n",
       " 'Trigger': 20,\n",
       " 'Nami': 14,\n",
       " 'Portgas.D.Ace': 14,\n",
       " 'Upper Yard': 14,\n",
       " 'Kouzuki Oden': 12,\n",
       " 'Sanji': 12,\n",
       " 'Shirahoshi': 11,\n",
       " 'Rebecca': 11,\n",
       " 'Nico Robin': 9,\n",
       " 'Buggy': 9,\n",
       " 'Sabo': 9,\n",
       " 'Izo': 7,\n",
       " 'Usopp': 7,\n",
       " 'Brannew': 7,\n",
       " 'Spandine': 7,\n",
       " 'Charlotte Pudding': 7,\n",
       " 'Tony Tony.Chopper': 7,\n",
       " 'Belo Betty': 6,\n",
       " 'Eustass\"Captain\"Kid': 5,\n",
       " 'Bartolomeo': 5,\n",
       " 'Charlotte Linlin': 5,\n",
       " 'Vinsmoke Reiju': 4,\n",
       " 'Vinsmoke Niji': 4,\n",
       " 'Vinsmoke Ichiji': 4,\n",
       " 'Gecko Moria': 4,\n",
       " 'Laboon': 4,\n",
       " 'Vinsmoke Yonji': 4,\n",
       " 'Tashigi': 4,\n",
       " 'Richie': 4,\n",
       " \"Kin'emon\": 4,\n",
       " 'Camie': 4,\n",
       " 'Mohji': 3,\n",
       " 'Caribou': 3,\n",
       " 'Dracule Mihawk': 3,\n",
       " 'Kuromarimo': 3,\n",
       " 'Charlotte Katakuri': 3,\n",
       " 'Spandam': 3,\n",
       " 'Kujyaku': 3,\n",
       " 'Cavendish': 3,\n",
       " 'Smiley': 3,\n",
       " 'New Genesis': 3,\n",
       " 'Ice Oni': 3,\n",
       " 'Pacifista': 3,\n",
       " 'Penguin': 2,\n",
       " 'Chess': 2,\n",
       " 'Blueno': 2,\n",
       " 'Galley-La Company': 2,\n",
       " 'Vegapunk': 2,\n",
       " 'Zou': 2,\n",
       " 'Queen': 2,\n",
       " 'Wanda': 2,\n",
       " 'Edward Weevil': 2,\n",
       " 'Kuzan': 2,\n",
       " 'Rock': 2,\n",
       " 'Scotch': 2,\n",
       " 'Mr.3(Galdino)': 2,\n",
       " 'Black Maria': 2,\n",
       " 'Lilith': 2,\n",
       " 'More Pizza!!': 2,\n",
       " 'Jinbe': 2,\n",
       " 'Shura': 2,\n",
       " 'Dr.Kureha': 2,\n",
       " 'Bonk Punch': 2,\n",
       " 'Monster': 2,\n",
       " 'Lim': 2,\n",
       " 'Shachi': 2,\n",
       " 'Roronoa Zoro': 2,\n",
       " 'San-Gorou': 2,\n",
       " 'Buchi': 2,\n",
       " 'Edward.Newgate': 2,\n",
       " 'Corrida Coliseum': 2,\n",
       " \"Who's.Who\": 2,\n",
       " 'Kouzuki Momonosuke': 2,\n",
       " \"Come On!! We'll Fight You!!\": 2,\n",
       " 'Helmeppo': 2,\n",
       " 'Enel': 2,\n",
       " 'Kouzuki Hiyori': 2,\n",
       " 'Emporio.Ivankov': 2,\n",
       " 'Pica': 2,\n",
       " 'Holly': 2,\n",
       " 'Otama': 2,\n",
       " 'Capone\"Gang\"Bege': 2,\n",
       " 'Alvida': 2,\n",
       " 'Megalo': 2,\n",
       " 'Sarfunkel': 1,\n",
       " 'Merry Go': 1,\n",
       " 'Donquixote Rosinante': 1,\n",
       " 'Gaimon': 1,\n",
       " 'Monkey.D.Garp': 1,\n",
       " 'Ulti': 1,\n",
       " 'Viscount Hiyoko': 1,\n",
       " 'Count Niwatori': 1,\n",
       " 'Biscuit Warrior': 1,\n",
       " 'Dereshi!': 1,\n",
       " 'Pekoms': 1,\n",
       " 'Baron Tamago': 1,\n",
       " 'Scratchmen Apoo': 1,\n",
       " 'Perona': 1,\n",
       " 'Trafalgar Law': 1,\n",
       " 'I Do Not Forgive Those Who Laugh at My Family!!!': 1,\n",
       " 'My Era...Begins!!': 1,\n",
       " 'Caesar Clown': 1,\n",
       " 'Bian': 1,\n",
       " 'Leo': 1,\n",
       " \"Let's Crash This Wedding!!!\": 1,\n",
       " 'Fish-Man Island': 1,\n",
       " 'Ripper': 1,\n",
       " \"I'm Gonna Be a Navy Officer!!!\": 1,\n",
       " 'Vergo': 1,\n",
       " 'Charlotte Anana': 1,\n",
       " 'Scarlet': 1,\n",
       " 'King': 1,\n",
       " 'Lily Carnation': 1,\n",
       " \"He Possesses the World's Most Brilliant Mind\": 1,\n",
       " 'Foxy': 1,\n",
       " 'Rob Lucci': 1,\n",
       " 'Boa Hancock': 1,\n",
       " 'Gloriosa (Grandma Nyon)': 1,\n",
       " 'Itomimizu': 1,\n",
       " 'Kalgara': 1,\n",
       " 'Plague Rounds': 1,\n",
       " 'Nefeltari Vivi': 1,\n",
       " 'Kung Fu Jugon': 1,\n",
       " 'Kotori': 1,\n",
       " 'Hotori': 1,\n",
       " 'Killer': 1,\n",
       " 'Raki': 1,\n",
       " 'Donquixote Doflamingo': 1,\n",
       " 'The Ark Noah': 1,\n",
       " 'Dr. Hogback': 1,\n",
       " 'GERMA 66': 1,\n",
       " 'Pickles': 1,\n",
       " 'Kokoro': 1,\n",
       " 'Iceburg': 1,\n",
       " 'Kuro': 1,\n",
       " 'Stussy': 1,\n",
       " 'Jango': 1,\n",
       " 'Fullbody': 1,\n",
       " 'Hannyabal': 1,\n",
       " 'Daifugo': 1,\n",
       " 'Blugori': 1,\n",
       " 'Dogura': 1,\n",
       " 'Baroque Works': 1,\n",
       " 'Bepo': 1,\n",
       " 'Fullalead': 1,\n",
       " 'Kurozumi Semimaru': 1,\n",
       " 'Artificial Devil Fruit SMILE': 1,\n",
       " 'Smoker': 1,\n",
       " 'Buena Festa': 1,\n",
       " 'Page One': 1,\n",
       " 'Franky': 1,\n",
       " 'Charlotte Smoothie': 1}"
      ]
     },
     "execution_count": 58,
     "metadata": {},
     "output_type": "execute_result"
    }
   ],
   "source": [
    "effects_count.to_dict()"
   ]
  },
  {
   "cell_type": "code",
   "execution_count": 52,
   "id": "82d2408a-8708-4a00-a05f-2f5881312ce3",
   "metadata": {},
   "outputs": [],
   "source": [
    "core_effects = [x for x in unique_effects if x not in targets] "
   ]
  },
  {
   "cell_type": "code",
   "execution_count": 53,
   "id": "fba24226-3bfe-401c-afb0-354adfc8fa59",
   "metadata": {},
   "outputs": [
    {
     "data": {
      "text/plain": [
       "['On Play',\n",
       " 'Counter',\n",
       " 'Activate: Main',\n",
       " 'Main',\n",
       " 'When Attacking',\n",
       " 'DON!! x1',\n",
       " 'On K.O.',\n",
       " 'End of Your Turn',\n",
       " 'Blocker',\n",
       " 'DON!! x2',\n",
       " 'Once Per Turn',\n",
       " \"Opponent's Turn\",\n",
       " 'Rush',\n",
       " 'Your Turn',\n",
       " 'Banish',\n",
       " \"On Your Opponent's Attack\",\n",
       " 'Trigger',\n",
       " 'Double Attack']"
      ]
     },
     "execution_count": 53,
     "metadata": {},
     "output_type": "execute_result"
    }
   ],
   "source": [
    "core_effects"
   ]
  },
  {
   "cell_type": "markdown",
   "id": "1d491ac6-06b3-4b20-85e9-94eccfeb2be4",
   "metadata": {},
   "source": [
    "* Even though I am pretty confident that these are all of the core Gameplay Effects in OPTCG, since these were extracted from a list of single-effect cards, there could still exist some other Gameplay Effect that only shows up with multi-effects which I would be missing\n",
    "* Can go about this several ways\n",
    "    * could just confirm from some external source all of the Effects\n",
    "    * manually go through this extended effects_list\n",
    "        * neither are necessarily 'elegant' imo.\n",
    "        * but I think manually going through it is safer\n"
   ]
  },
  {
   "cell_type": "code",
   "execution_count": null,
   "id": "a8af0170-72fa-42c2-9e66-e95f1c8d8ac8",
   "metadata": {},
   "outputs": [],
   "source": []
  },
  {
   "cell_type": "code",
   "execution_count": null,
   "id": "60b86b39-e2f0-40ec-823f-a6402c061f4a",
   "metadata": {},
   "outputs": [],
   "source": []
  },
  {
   "cell_type": "code",
   "execution_count": null,
   "id": "99c62565-c9c6-4d1c-af05-db5372b17828",
   "metadata": {},
   "outputs": [],
   "source": []
  },
  {
   "cell_type": "code",
   "execution_count": null,
   "id": "85a04f56-ceed-4a38-a84d-996c4433b3bb",
   "metadata": {},
   "outputs": [],
   "source": []
  },
  {
   "cell_type": "code",
   "execution_count": null,
   "id": "da5d9be9-8e90-4777-a9d4-645353c26ea2",
   "metadata": {},
   "outputs": [],
   "source": []
  },
  {
   "cell_type": "code",
   "execution_count": 26,
   "id": "a4e402fc-16fb-4f1c-ad44-61ae39f90ce4",
   "metadata": {},
   "outputs": [
    {
     "data": {
      "text/plain": [
       "939"
      ]
     },
     "execution_count": 26,
     "metadata": {},
     "output_type": "execute_result"
    }
   ],
   "source": [
    "len(s[s.str.len().eq(2)])"
   ]
  },
  {
   "cell_type": "code",
   "execution_count": null,
   "id": "34e339c1-f00f-465e-afcb-9f85a1a59c51",
   "metadata": {},
   "outputs": [],
   "source": []
  },
  {
   "cell_type": "code",
   "execution_count": null,
   "id": "3ffe9847-c241-43a7-8953-0c279752fbf6",
   "metadata": {},
   "outputs": [],
   "source": []
  },
  {
   "cell_type": "code",
   "execution_count": null,
   "id": "528457c8-00f0-4838-ac12-10bbe1e670ed",
   "metadata": {},
   "outputs": [],
   "source": []
  },
  {
   "cell_type": "markdown",
   "id": "bef28296-9444-4cce-bbc3-2ae99306dfe3",
   "metadata": {},
   "source": [
    "---\n",
    "#### - DON!! - "
   ]
  },
  {
   "cell_type": "markdown",
   "id": "6a9a8212-9d26-4e77-9167-9c4fcc221d3b",
   "metadata": {},
   "source": [
    "* I do not want to include [DON!!] as an effect, as it is more of a cost requirement\n",
    "* However, I did not expect there to be a [DON!!] effect without another effect that it interacts with\n",
    "* Row 2919 shows a card with only a [DON!!] effect and without an accompanying effect"
   ]
  },
  {
   "cell_type": "code",
   "execution_count": 12,
   "id": "e0322a25-74a9-454b-9ea5-79d5346b94f6",
   "metadata": {},
   "outputs": [
    {
     "data": {
      "text/plain": [
       "card_name                                          Roronoa Zoro\n",
       "card_id                                             ST01-013_p2\n",
       "info_spans                              ST01-013, SR, CHARACTER\n",
       "cost                                                          3\n",
       "attribute                                                 Slash\n",
       "power                                                      5000\n",
       "counter                                                       -\n",
       "color                                                       Red\n",
       "block                                                         1\n",
       "feature                               Supernovas/Straw Hat Crew\n",
       "text          Effect [DON!! x1] This Character gains +1000 p...\n",
       "getInfo                            GIFT COLLECTION 2023 [GC-01]\n",
       "Name: 2919, dtype: object"
      ]
     },
     "execution_count": 12,
     "metadata": {},
     "output_type": "execute_result"
    }
   ],
   "source": [
    "df.iloc[2919]"
   ]
  },
  {
   "cell_type": "code",
   "execution_count": 13,
   "id": "432779df-b685-4299-86c7-71be46728f8e",
   "metadata": {},
   "outputs": [
    {
     "data": {
      "text/plain": [
       "'Effect [DON!! x1] This Character gains +1000 power.'"
      ]
     },
     "execution_count": 13,
     "metadata": {},
     "output_type": "execute_result"
    }
   ],
   "source": [
    "df.iloc[2919].text"
   ]
  },
  {
   "cell_type": "markdown",
   "id": "074bb6a4-4826-49bb-a030-78fb143dd21e",
   "metadata": {},
   "source": [
    "* It seems that a standalone [DON!!] effect can be an actual effect\n",
    "* However, there will be overlap when combined with other effects, such as [When Attacking]\n",
    "---\n",
    "* IF there is an instance where [DON!!] does NOT overlap with certain effects, such as [When Attacking], that is where it can be problematic"
   ]
  },
  {
   "cell_type": "code",
   "execution_count": 14,
   "id": "76197284-740a-4053-a2d6-144d1a690525",
   "metadata": {},
   "outputs": [],
   "source": [
    "df[\"effects\"] = df[\"text\"].str.findall(r'\\[([^\\[\\]]+)\\]')"
   ]
  },
  {
   "cell_type": "code",
   "execution_count": 15,
   "id": "87717592-060f-4236-b4db-709223133648",
   "metadata": {},
   "outputs": [
    {
     "data": {
      "text/plain": [
       "effects\n",
       "[On Play]                                                     497\n",
       "[]                                                            304\n",
       "[Main]                                                        176\n",
       "[Activate: Main]                                              150\n",
       "[Counter]                                                     134\n",
       "                                                             ... \n",
       "[DON!! x1, Once Per Turn, Your Turn]                            1\n",
       "[Rush, Once Per Turn]                                           1\n",
       "[When Attacking, Edward.Newgate]                                1\n",
       "[Uta]                                                           1\n",
       "[DON!! x1, Opponent's Turn, Activate: Main, Once Per Turn]      1\n",
       "Name: count, Length: 377, dtype: int64"
      ]
     },
     "execution_count": 15,
     "metadata": {},
     "output_type": "execute_result"
    }
   ],
   "source": [
    "df['effects'].value_counts()"
   ]
  },
  {
   "cell_type": "markdown",
   "id": "e657db5f-15a3-44f7-9bbf-71cc62d0be20",
   "metadata": {},
   "source": [
    "* Just in case, will check the blank [] to make sure that means no effect\n",
    "  * not necessarily surprised by that number ; out of 2924 cards, including Event cards (spell cards), 304 cards having no effect (not even a Counter or Blocker) does not necessarily seem high"
   ]
  },
  {
   "cell_type": "code",
   "execution_count": 42,
   "id": "c5105192-196f-4798-af14-300ad326754c",
   "metadata": {},
   "outputs": [
    {
     "ename": "KeyError",
     "evalue": "'don_effects'",
     "output_type": "error",
     "traceback": [
      "\u001b[31m---------------------------------------------------------------------------\u001b[39m",
      "\u001b[31mKeyError\u001b[39m                                  Traceback (most recent call last)",
      "\u001b[36mFile \u001b[39m\u001b[32m~\\miniconda3\\envs\\OPTCG\\Lib\\site-packages\\pandas\\core\\indexes\\base.py:3812\u001b[39m, in \u001b[36mIndex.get_loc\u001b[39m\u001b[34m(self, key)\u001b[39m\n\u001b[32m   3811\u001b[39m \u001b[38;5;28;01mtry\u001b[39;00m:\n\u001b[32m-> \u001b[39m\u001b[32m3812\u001b[39m     \u001b[38;5;28;01mreturn\u001b[39;00m \u001b[38;5;28mself\u001b[39m._engine.get_loc(casted_key)\n\u001b[32m   3813\u001b[39m \u001b[38;5;28;01mexcept\u001b[39;00m \u001b[38;5;167;01mKeyError\u001b[39;00m \u001b[38;5;28;01mas\u001b[39;00m err:\n",
      "\u001b[36mFile \u001b[39m\u001b[32mindex.pyx:167\u001b[39m, in \u001b[36mpandas._libs.index.IndexEngine.get_loc\u001b[39m\u001b[34m()\u001b[39m\n",
      "\u001b[36mFile \u001b[39m\u001b[32mindex.pyx:196\u001b[39m, in \u001b[36mpandas._libs.index.IndexEngine.get_loc\u001b[39m\u001b[34m()\u001b[39m\n",
      "\u001b[36mFile \u001b[39m\u001b[32mpandas\\\\_libs\\\\hashtable_class_helper.pxi:7088\u001b[39m, in \u001b[36mpandas._libs.hashtable.PyObjectHashTable.get_item\u001b[39m\u001b[34m()\u001b[39m\n",
      "\u001b[36mFile \u001b[39m\u001b[32mpandas\\\\_libs\\\\hashtable_class_helper.pxi:7096\u001b[39m, in \u001b[36mpandas._libs.hashtable.PyObjectHashTable.get_item\u001b[39m\u001b[34m()\u001b[39m\n",
      "\u001b[31mKeyError\u001b[39m: 'don_effects'",
      "\nThe above exception was the direct cause of the following exception:\n",
      "\u001b[31mKeyError\u001b[39m                                  Traceback (most recent call last)",
      "\u001b[36mCell\u001b[39m\u001b[36m \u001b[39m\u001b[32mIn[42]\u001b[39m\u001b[32m, line 1\u001b[39m\n\u001b[32m----> \u001b[39m\u001b[32m1\u001b[39m DON = df[\u001b[33m'\u001b[39m\u001b[33mdon_effects\u001b[39m\u001b[33m'\u001b[39m].apply(\u001b[38;5;28;01mlambda\u001b[39;00m fx: \u001b[38;5;28many\u001b[39m(effect.startswith(\u001b[33m'\u001b[39m\u001b[33mDON!!\u001b[39m\u001b[33m'\u001b[39m) \u001b[38;5;28;01mfor\u001b[39;00m effect \u001b[38;5;129;01min\u001b[39;00m fx))\n\u001b[32m      2\u001b[39m DON_df = df[DON]\n",
      "\u001b[36mFile \u001b[39m\u001b[32m~\\miniconda3\\envs\\OPTCG\\Lib\\site-packages\\pandas\\core\\frame.py:4107\u001b[39m, in \u001b[36mDataFrame.__getitem__\u001b[39m\u001b[34m(self, key)\u001b[39m\n\u001b[32m   4105\u001b[39m \u001b[38;5;28;01mif\u001b[39;00m \u001b[38;5;28mself\u001b[39m.columns.nlevels > \u001b[32m1\u001b[39m:\n\u001b[32m   4106\u001b[39m     \u001b[38;5;28;01mreturn\u001b[39;00m \u001b[38;5;28mself\u001b[39m._getitem_multilevel(key)\n\u001b[32m-> \u001b[39m\u001b[32m4107\u001b[39m indexer = \u001b[38;5;28mself\u001b[39m.columns.get_loc(key)\n\u001b[32m   4108\u001b[39m \u001b[38;5;28;01mif\u001b[39;00m is_integer(indexer):\n\u001b[32m   4109\u001b[39m     indexer = [indexer]\n",
      "\u001b[36mFile \u001b[39m\u001b[32m~\\miniconda3\\envs\\OPTCG\\Lib\\site-packages\\pandas\\core\\indexes\\base.py:3819\u001b[39m, in \u001b[36mIndex.get_loc\u001b[39m\u001b[34m(self, key)\u001b[39m\n\u001b[32m   3814\u001b[39m     \u001b[38;5;28;01mif\u001b[39;00m \u001b[38;5;28misinstance\u001b[39m(casted_key, \u001b[38;5;28mslice\u001b[39m) \u001b[38;5;129;01mor\u001b[39;00m (\n\u001b[32m   3815\u001b[39m         \u001b[38;5;28misinstance\u001b[39m(casted_key, abc.Iterable)\n\u001b[32m   3816\u001b[39m         \u001b[38;5;129;01mand\u001b[39;00m \u001b[38;5;28many\u001b[39m(\u001b[38;5;28misinstance\u001b[39m(x, \u001b[38;5;28mslice\u001b[39m) \u001b[38;5;28;01mfor\u001b[39;00m x \u001b[38;5;129;01min\u001b[39;00m casted_key)\n\u001b[32m   3817\u001b[39m     ):\n\u001b[32m   3818\u001b[39m         \u001b[38;5;28;01mraise\u001b[39;00m InvalidIndexError(key)\n\u001b[32m-> \u001b[39m\u001b[32m3819\u001b[39m     \u001b[38;5;28;01mraise\u001b[39;00m \u001b[38;5;167;01mKeyError\u001b[39;00m(key) \u001b[38;5;28;01mfrom\u001b[39;00m\u001b[38;5;250m \u001b[39m\u001b[34;01merr\u001b[39;00m\n\u001b[32m   3820\u001b[39m \u001b[38;5;28;01mexcept\u001b[39;00m \u001b[38;5;167;01mTypeError\u001b[39;00m:\n\u001b[32m   3821\u001b[39m     \u001b[38;5;66;03m# If we have a listlike key, _check_indexing_error will raise\u001b[39;00m\n\u001b[32m   3822\u001b[39m     \u001b[38;5;66;03m#  InvalidIndexError. Otherwise we fall through and re-raise\u001b[39;00m\n\u001b[32m   3823\u001b[39m     \u001b[38;5;66;03m#  the TypeError.\u001b[39;00m\n\u001b[32m   3824\u001b[39m     \u001b[38;5;28mself\u001b[39m._check_indexing_error(key)\n",
      "\u001b[31mKeyError\u001b[39m: 'don_effects'"
     ]
    }
   ],
   "source": [
    "DON = df['don_effects'].apply(lambda fx: any(effect.startswith('DON!!') for effect in fx))\n",
    "DON_df = df[DON]"
   ]
  },
  {
   "cell_type": "code",
   "execution_count": 17,
   "id": "be2249f1-c526-48b7-929b-426dd832be9e",
   "metadata": {},
   "outputs": [
    {
     "data": {
      "text/html": [
       "<div>\n",
       "<style scoped>\n",
       "    .dataframe tbody tr th:only-of-type {\n",
       "        vertical-align: middle;\n",
       "    }\n",
       "\n",
       "    .dataframe tbody tr th {\n",
       "        vertical-align: top;\n",
       "    }\n",
       "\n",
       "    .dataframe thead th {\n",
       "        text-align: right;\n",
       "    }\n",
       "</style>\n",
       "<table border=\"1\" class=\"dataframe\">\n",
       "  <thead>\n",
       "    <tr style=\"text-align: right;\">\n",
       "      <th></th>\n",
       "      <th>card_name</th>\n",
       "      <th>card_id</th>\n",
       "      <th>info_spans</th>\n",
       "      <th>cost</th>\n",
       "      <th>attribute</th>\n",
       "      <th>power</th>\n",
       "      <th>counter</th>\n",
       "      <th>color</th>\n",
       "      <th>block</th>\n",
       "      <th>feature</th>\n",
       "      <th>text</th>\n",
       "      <th>getInfo</th>\n",
       "      <th>effects</th>\n",
       "    </tr>\n",
       "  </thead>\n",
       "  <tbody>\n",
       "    <tr>\n",
       "      <th>0</th>\n",
       "      <td>Tony Tony.Chopper</td>\n",
       "      <td>EB01-006_r1</td>\n",
       "      <td>EB01-006, SR, CHARACTER</td>\n",
       "      <td>3</td>\n",
       "      <td>Strike</td>\n",
       "      <td>4000</td>\n",
       "      <td>1000</td>\n",
       "      <td>Red</td>\n",
       "      <td>2</td>\n",
       "      <td>Animal/Straw Hat Crew</td>\n",
       "      <td>Effect [Blocker] (After your opponent declares...</td>\n",
       "      <td>-ONE PIECE CARD THE BEST- [PRB-01]</td>\n",
       "      <td>[Blocker, DON!! x2, When Attacking]</td>\n",
       "    </tr>\n",
       "    <tr>\n",
       "      <th>6</th>\n",
       "      <td>Monkey.D.Luffy</td>\n",
       "      <td>OP01-024_p3</td>\n",
       "      <td>OP01-024, SR, CHARACTER</td>\n",
       "      <td>2</td>\n",
       "      <td>Strike</td>\n",
       "      <td>3000</td>\n",
       "      <td>1000</td>\n",
       "      <td>Red</td>\n",
       "      <td>1</td>\n",
       "      <td>Supernovas/Straw Hat Crew</td>\n",
       "      <td>Effect [DON!! x2] This Character cannot be K.O...</td>\n",
       "      <td>-ONE PIECE CARD THE BEST- [PRB-01]</td>\n",
       "      <td>[DON!! x2, Activate: Main, Once Per Turn]</td>\n",
       "    </tr>\n",
       "    <tr>\n",
       "      <th>7</th>\n",
       "      <td>Monkey.D.Luffy</td>\n",
       "      <td>OP01-024_r1</td>\n",
       "      <td>OP01-024, SR, CHARACTER</td>\n",
       "      <td>2</td>\n",
       "      <td>Strike</td>\n",
       "      <td>3000</td>\n",
       "      <td>1000</td>\n",
       "      <td>Red</td>\n",
       "      <td>1</td>\n",
       "      <td>Supernovas/Straw Hat Crew</td>\n",
       "      <td>Effect [DON!! x2] This Character cannot be K.O...</td>\n",
       "      <td>-ONE PIECE CARD THE BEST- [PRB-01]</td>\n",
       "      <td>[DON!! x2, Activate: Main, Once Per Turn]</td>\n",
       "    </tr>\n",
       "    <tr>\n",
       "      <th>21</th>\n",
       "      <td>Eustass\"Captain\"Kid</td>\n",
       "      <td>OP01-051_p4</td>\n",
       "      <td>OP01-051, SR, CHARACTER</td>\n",
       "      <td>8</td>\n",
       "      <td>Special</td>\n",
       "      <td>8000</td>\n",
       "      <td>-</td>\n",
       "      <td>Green</td>\n",
       "      <td>1</td>\n",
       "      <td>Supernovas/Kid Pirates</td>\n",
       "      <td>Effect [DON!! x1] [Opponent's Turn] If this Ch...</td>\n",
       "      <td>-ONE PIECE CARD THE BEST- [PRB-01]</td>\n",
       "      <td>[DON!! x1, Opponent's Turn, Eustass\"Captain\"Ki...</td>\n",
       "    </tr>\n",
       "    <tr>\n",
       "      <th>22</th>\n",
       "      <td>Eustass\"Captain\"Kid</td>\n",
       "      <td>OP01-051_r1</td>\n",
       "      <td>OP01-051, SR, CHARACTER</td>\n",
       "      <td>8</td>\n",
       "      <td>Special</td>\n",
       "      <td>8000</td>\n",
       "      <td>-</td>\n",
       "      <td>Green</td>\n",
       "      <td>1</td>\n",
       "      <td>Supernovas/Kid Pirates</td>\n",
       "      <td>Effect [DON!! x1] [Opponent's Turn] If this Ch...</td>\n",
       "      <td>-ONE PIECE CARD THE BEST- [PRB-01]</td>\n",
       "      <td>[DON!! x1, Opponent's Turn, Eustass\"Captain\"Ki...</td>\n",
       "    </tr>\n",
       "  </tbody>\n",
       "</table>\n",
       "</div>"
      ],
      "text/plain": [
       "              card_name      card_id               info_spans cost attribute  \\\n",
       "0     Tony Tony.Chopper  EB01-006_r1  EB01-006, SR, CHARACTER    3    Strike   \n",
       "6        Monkey.D.Luffy  OP01-024_p3  OP01-024, SR, CHARACTER    2    Strike   \n",
       "7        Monkey.D.Luffy  OP01-024_r1  OP01-024, SR, CHARACTER    2    Strike   \n",
       "21  Eustass\"Captain\"Kid  OP01-051_p4  OP01-051, SR, CHARACTER    8   Special   \n",
       "22  Eustass\"Captain\"Kid  OP01-051_r1  OP01-051, SR, CHARACTER    8   Special   \n",
       "\n",
       "   power counter  color block                    feature  \\\n",
       "0   4000    1000    Red     2      Animal/Straw Hat Crew   \n",
       "6   3000    1000    Red     1  Supernovas/Straw Hat Crew   \n",
       "7   3000    1000    Red     1  Supernovas/Straw Hat Crew   \n",
       "21  8000       -  Green     1     Supernovas/Kid Pirates   \n",
       "22  8000       -  Green     1     Supernovas/Kid Pirates   \n",
       "\n",
       "                                                 text  \\\n",
       "0   Effect [Blocker] (After your opponent declares...   \n",
       "6   Effect [DON!! x2] This Character cannot be K.O...   \n",
       "7   Effect [DON!! x2] This Character cannot be K.O...   \n",
       "21  Effect [DON!! x1] [Opponent's Turn] If this Ch...   \n",
       "22  Effect [DON!! x1] [Opponent's Turn] If this Ch...   \n",
       "\n",
       "                               getInfo  \\\n",
       "0   -ONE PIECE CARD THE BEST- [PRB-01]   \n",
       "6   -ONE PIECE CARD THE BEST- [PRB-01]   \n",
       "7   -ONE PIECE CARD THE BEST- [PRB-01]   \n",
       "21  -ONE PIECE CARD THE BEST- [PRB-01]   \n",
       "22  -ONE PIECE CARD THE BEST- [PRB-01]   \n",
       "\n",
       "                                              effects  \n",
       "0                 [Blocker, DON!! x2, When Attacking]  \n",
       "6           [DON!! x2, Activate: Main, Once Per Turn]  \n",
       "7           [DON!! x2, Activate: Main, Once Per Turn]  \n",
       "21  [DON!! x1, Opponent's Turn, Eustass\"Captain\"Ki...  \n",
       "22  [DON!! x1, Opponent's Turn, Eustass\"Captain\"Ki...  "
      ]
     },
     "execution_count": 17,
     "metadata": {},
     "output_type": "execute_result"
    }
   ],
   "source": [
    "DON_df.head()"
   ]
  },
  {
   "cell_type": "markdown",
   "id": "7fc62bd9-d5e2-4048-ab84-f76436e1a02d",
   "metadata": {},
   "source": [
    "* Effects like [Blocker] are not expected to ever overlap with [DON!!], but it cannot be completely ruled out that there is not at least one card that has an interaction of [Blocker] and [DON!!], as effects are getting more and more sophisticated with every new release\n",
    "---"
   ]
  },
  {
   "cell_type": "code",
   "execution_count": 18,
   "id": "9052e6d6-cd09-4511-bc79-021ee98b2cd8",
   "metadata": {},
   "outputs": [
    {
     "data": {
      "text/plain": [
       "\"Effect [Blocker] (After your opponent declares an attack, you may rest this card to make it the new target of the attack.) [DON!! x2] [When Attacking] Give up to 1 of your opponent's Characters −3000 power during this turn.\""
      ]
     },
     "execution_count": 18,
     "metadata": {},
     "output_type": "execute_result"
    }
   ],
   "source": [
    "DON_df.at[0, 'text']"
   ]
  },
  {
   "cell_type": "code",
   "execution_count": 19,
   "id": "80ec92d3-3018-42d8-a861-709eeb9ea69d",
   "metadata": {},
   "outputs": [
    {
     "data": {
      "text/plain": [
       "\"Effect [DON!! x2] This Character cannot be K.O.'d in battle by <Strike> attribute Characters. [Activate: Main] [Once Per Turn] Give this Character up to 2 rested DON!! cards.\""
      ]
     },
     "execution_count": 19,
     "metadata": {},
     "output_type": "execute_result"
    }
   ],
   "source": [
    "DON_df.at[6, 'text']"
   ]
  },
  {
   "cell_type": "markdown",
   "id": "2e0785b1-0c32-43fe-adc8-9f0a30f48af4",
   "metadata": {},
   "source": [
    "* The first example above shows the [DON!!] effect interacting with the [When Attacking] effect\n",
    "* The second example's [DON!!] effect functions on its own\n",
    "    * the other effect does have interaction with how the [DON!!] effect works, does not depend on the [DON!!] effect to activate"
   ]
  },
  {
   "cell_type": "code",
   "execution_count": 20,
   "id": "8700bb00-015f-4df3-8082-b1a0ebb91b0f",
   "metadata": {},
   "outputs": [
    {
     "data": {
      "text/plain": [
       "'Effect [DON!! x1] [Opponent\\'s Turn] If this Character is rested, your opponent cannot attack any card other than the Character [Eustass\"Captain\"Kid]. [Activate: Main] [Once Per Turn] You may rest this Character: Play up to 1 Character card with a cost of 3 or less from your hand.'"
      ]
     },
     "execution_count": 20,
     "metadata": {},
     "output_type": "execute_result"
    }
   ],
   "source": [
    "DON_df.at[21, 'text']"
   ]
  },
  {
   "cell_type": "markdown",
   "id": "15760c47-cd39-4b42-a74d-44d281e786f6",
   "metadata": {},
   "source": [
    "* We can tell that a DON!! effect interacts with another 'effect' if the name of that effect - [Opponent's Turn] in the example above - directly follows the DON!! effect in the 'text'\n",
    "    * ... and then the description of the effect is described\n",
    "---\n",
    "* Will confirm if every card in DON_df starts with the string 'Effect'\n",
    "* May need to go through every 'effect' that is the only 'effect' on a card"
   ]
  },
  {
   "cell_type": "code",
   "execution_count": null,
   "id": "cb379f72-f3c6-4d9a-934e-7b2b592c2a3c",
   "metadata": {},
   "outputs": [],
   "source": []
  },
  {
   "cell_type": "code",
   "execution_count": null,
   "id": "08a8f0d4-9478-4942-b60c-1e0257be5938",
   "metadata": {},
   "outputs": [],
   "source": []
  },
  {
   "cell_type": "code",
   "execution_count": null,
   "id": "f46412d7-46c4-44e6-866d-c7b9774abdaf",
   "metadata": {},
   "outputs": [],
   "source": []
  },
  {
   "cell_type": "code",
   "execution_count": null,
   "id": "d53d4098-363a-4f2b-99d5-8cf31cbd71fa",
   "metadata": {},
   "outputs": [],
   "source": []
  },
  {
   "cell_type": "code",
   "execution_count": null,
   "id": "3857a3fb-184c-4544-a7a5-f37c69ef6d58",
   "metadata": {},
   "outputs": [],
   "source": []
  }
 ],
 "metadata": {
  "kernelspec": {
   "display_name": "Python 3 (ipykernel)",
   "language": "python",
   "name": "python3"
  },
  "language_info": {
   "codemirror_mode": {
    "name": "ipython",
    "version": 3
   },
   "file_extension": ".py",
   "mimetype": "text/x-python",
   "name": "python",
   "nbconvert_exporter": "python",
   "pygments_lexer": "ipython3",
   "version": "3.11.13"
  }
 },
 "nbformat": 4,
 "nbformat_minor": 5
}
